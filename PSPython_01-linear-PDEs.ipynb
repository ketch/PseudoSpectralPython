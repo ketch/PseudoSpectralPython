{
 "cells": [
  {
   "cell_type": "code",
   "execution_count": null,
   "metadata": {},
   "outputs": [],
   "source": [
    "from IPython.core.display import HTML\n",
    "css_file = './custom.css'\n",
    "HTML(open(css_file, \"r\").read())"
   ]
  },
  {
   "cell_type": "markdown",
   "metadata": {},
   "source": [
    "###### Content provided under a Creative Commons Attribution license, CC-BY 4.0; code under MIT License. (c)2015 [David I. Ketcheson](http://davidketcheson.info)"
   ]
  },
  {
   "cell_type": "markdown",
   "metadata": {},
   "source": [
    "##### Version 0.3 - May 2022"
   ]
  },
  {
   "cell_type": "markdown",
   "metadata": {},
   "source": [
    "# Pseudospectral methods for wave equations in Python "
   ]
  },
  {
   "cell_type": "markdown",
   "metadata": {},
   "source": [
    "Welcome to PseudoSpectralPython, a short course that will teach you how to solve wave equations using pseudospectral collocation methods.  This notebook is the first lesson, on solving linear problems.  Pseudospectral methods are great for wave problems where:\n",
    "\n",
    "- The solution is smooth (no shocks)\n",
    "- The domain is simple; e.g., cartesian or spherical domains.  In the course, we'll focus on periodic Cartesian domains."
   ]
  },
  {
   "cell_type": "markdown",
   "metadata": {
    "heading_collapsed": true
   },
   "source": [
    "## Table of contents:\n",
    " \n",
    "- [Advection-diffusion](#Advection-diffusion)\n",
    "- [Approximate solution](#Approximate-solution-by-discrete-Fourier-transforms)\n",
    "- [General linear PDEs](#General-linear-evolution-PDEs)"
   ]
  },
  {
   "cell_type": "markdown",
   "metadata": {},
   "source": [
    "## Advection-diffusion\n",
    "Let's get started!  Run the code cell below to import a bunch of Python libraries we'll use."
   ]
  },
  {
   "cell_type": "code",
   "execution_count": null,
   "metadata": {},
   "outputs": [],
   "source": [
    "%matplotlib inline\n",
    "import numpy as np\n",
    "import matplotlib.pyplot as plt\n",
    "import matplotlib\n",
    "from matplotlib import animation\n",
    "from IPython.display import HTML"
   ]
  },
  {
   "cell_type": "markdown",
   "metadata": {},
   "source": [
    "To begin, let's consider the partial differential equation (PDE)\n",
    "\n",
    "$$u_t + a u_x = \\epsilon u_{xx}$$\n",
    "\n",
    "referred to as the *advection-diffusion* equation, for reasons we'll soon discover.  Here we wish to find $u(x,t)$, which might be the density or concentration of some substance.  The subscripts denote partial differentiation; e.g. $u_t$ is the partial derivative of $u$ with respect to $t$.  The coefficients $a$ and $\\epsilon$ are constants that determine the strength of the advective and diffusive effects."
   ]
  },
  {
   "cell_type": "markdown",
   "metadata": {},
   "source": [
    "### Exact solution by Fourier analysis\n",
    "Let's solve this equation on a periodic domain $[-\\pi,\\pi]$, with some initial data\n",
    "\n",
    "$$u(x,0) = u_0(x).$$\n",
    "\n",
    "If we suppose for a moment that our solution is composed of a single Fourier mode with wavenumber $\\xi$ and time-dependent amplitude $\\hat{u}$:\n",
    "\n",
    "$$u(x,t; \\xi) = \\hat{u}(t) e^{i\\xi x},$$\n",
    "\n",
    "Then we obtain a simple ordinary differential equation (ODE) for $\\hat{u}$:\n",
    "\n",
    "$$\\hat{u}'(t; \\xi) + i\\xi a \\hat{u} = -\\xi^2 \\epsilon \\hat{u}$$\n",
    "\n",
    "We can solve this scalar ODE exactly:\n",
    "\n",
    "$$\\hat{u}(t; \\xi) = e^{(-i \\xi a - \\epsilon \\xi^2)t} \\hat{u}(0).$$"
   ]
  },
  {
   "cell_type": "markdown",
   "metadata": {},
   "source": [
    "We've transformed the original PDE into a simple ODE, but you may wonder whether this is useful, since we assumed a very simple form for the solution.  The marvelous fact is that every solution of our advection-diffusion equation can be written as a linear combination (a *superposition*) of simple solutions of the form above, with different wavenumbers $\\xi$.  We can construct the general solution as follows.\n",
    "\n",
    "First, we take a **Fourier transform** of the initial data:\n",
    "\n",
    "$$\\hat{u}(t=0;\\xi) = \\frac{1}{\\sqrt{2\\pi}} \\int_{-\\infty}^\\infty u_0(x) e^{-i\\xi x}dx.$$\n",
    "\n",
    "Then each mode **evolves** according to the solution of the ODE above:\n",
    "\n",
    "$$\\hat{u}'(t; \\xi) = e^{(-i \\xi a - \\epsilon \\xi^2)t} \\hat{u}(0;\\xi).$$\n",
    "\n",
    "Finally, we construct the solution again by taking the **inverse Fourier transform**.  This just means summing up all the Fourier modes:\n",
    "\n",
    "$$u(x,t) = \\frac{1}{\\sqrt{2\\pi}} \\int_{-\\infty}^\\infty \\hat{u}(t; \\xi) e^{i\\xi x}d\\xi.$$"
   ]
  },
  {
   "cell_type": "markdown",
   "metadata": {},
   "source": [
    "If you haven't seen Fourier analysis at all before, now is a good time to go read up a bit and then come back."
   ]
  },
  {
   "cell_type": "markdown",
   "metadata": {},
   "source": [
    "## Approximate solution by discrete Fourier transforms"
   ]
  },
  {
   "cell_type": "markdown",
   "metadata": {},
   "source": [
    "We can't evaluate the integrals above exactly on the computer (at least, not for arbitrary initial data $u_0$).  Instead, we need to **discretize**.  To do so, we introduce a grid with a finite set of points in space and time:"
   ]
  },
  {
   "cell_type": "code",
   "execution_count": null,
   "metadata": {},
   "outputs": [],
   "source": [
    "# Spatial grid\n",
    "m=64                            # Number of grid points in space\n",
    "L = 2 * np.pi                   # Width of spatial domain\n",
    "x = np.arange(-m/2,m/2)*(L/m)   # Grid points\n",
    "dx = x[1]-x[0]                  # Grid spacing\n",
    "\n",
    "# Temporal grid\n",
    "tmax = 4.0     # Final time\n",
    "N = 25       # number grid points in time\n",
    "k = tmax/N   # interval between output times"
   ]
  },
  {
   "cell_type": "code",
   "execution_count": null,
   "metadata": {},
   "outputs": [],
   "source": [
    "x"
   ]
  },
  {
   "cell_type": "markdown",
   "metadata": {},
   "source": [
    "and a corresponding set of discrete wavenumber values $\\xi$:"
   ]
  },
  {
   "cell_type": "code",
   "execution_count": null,
   "metadata": {},
   "outputs": [],
   "source": [
    "xi = np.fft.fftfreq(m)*m*2*np.pi/L  # Wavenumber \"grid\"\n",
    "xi\n",
    "# (this is the order in which numpy's FFT gives the frequencies)"
   ]
  },
  {
   "cell_type": "markdown",
   "metadata": {},
   "source": [
    "The functions $u, \\hat{u}$ discussed above are replaced by finite-dimensional vectors.  These vectors are related through the discrete version of the Fourier transform, aptly called the **discrete Fourier transform** (DFT).  We'll look at the DFT in more detail in the next lesson.  For now, let's set the initial condition to\n",
    "\n",
    "$$u_0(x) = \\begin{cases} \\sin^2(2x) & -\\pi \\le x < -\\pi/2 \\\\ 0 & x>-\\pi/2 \\end{cases}$$\n",
    "\n",
    "and compute its DFT:"
   ]
  },
  {
   "cell_type": "code",
   "execution_count": null,
   "metadata": {},
   "outputs": [],
   "source": [
    "# Initial data\n",
    "u = np.sin(2*x)**2 * (x<-L/4)\n",
    "uhat0 = np.fft.fft(u)\n",
    "plt.plot(x,u)"
   ]
  },
  {
   "cell_type": "markdown",
   "metadata": {},
   "source": [
    "In the plot above, we have simply \"connected the dots\", using the values of the function at the grid points.  We can obtain a more accurate representation by employing the underlying Fourier series representation of the solution, evaluated on a finer grid:"
   ]
  },
  {
   "cell_type": "code",
   "execution_count": null,
   "metadata": {},
   "outputs": [],
   "source": [
    "def spectral_representation(x0,uhat):\n",
    "    u_fun = lambda y : np.real(np.sum(uhat*np.exp(1j*xi*(y+x0))))/len(uhat)\n",
    "    u_fun = np.vectorize(u_fun)\n",
    "    return u_fun\n",
    "\n",
    "u_spectral = spectral_representation(x[0],uhat0)\n",
    "x_fine = np.linspace(x[0],x[-1],1000)\n",
    "plt.plot(x_fine,u_spectral(x_fine));"
   ]
  },
  {
   "cell_type": "markdown",
   "metadata": {},
   "source": [
    "Next, we set a value for epsilon and  compute the solution:"
   ]
  },
  {
   "cell_type": "code",
   "execution_count": null,
   "metadata": {},
   "outputs": [],
   "source": [
    "epsilon=0.01  # Diffusion coefficient\n",
    "a = 1.0       # Advection coefficient\n",
    "\n",
    "# Store solutions in a list for plotting later\n",
    "frames = [u.copy()]\n",
    "\n",
    "# Now we solve the problem\n",
    "for n in range(1,N+1):\n",
    "    t = n*k\n",
    "    uhat = np.exp(-(1.j*xi*a + epsilon*xi**2)*t) * uhat0\n",
    "    u = np.real(np.fft.ifft(uhat))\n",
    "    frames.append(u.copy())"
   ]
  },
  {
   "cell_type": "markdown",
   "metadata": {},
   "source": [
    "We have computed and stored the solution.  The code below plots it as an animation."
   ]
  },
  {
   "cell_type": "code",
   "execution_count": null,
   "metadata": {},
   "outputs": [],
   "source": [
    "# Set up plotting\n",
    "fig = plt.figure(figsize=(9,4)); axes = fig.add_subplot(111)\n",
    "line, = axes.plot([],[],lw=3)\n",
    "axes.set_xlim((x[0],x[-1])); axes.set_ylim((0.,1.))\n",
    "plt.close()\n",
    "\n",
    "def plot_frame(i):\n",
    "    line.set_data(x,frames[i])\n",
    "    axes.set_title('t='+str(i*k))\n",
    "    fig.canvas.draw()\n",
    "    return fig\n",
    "\n",
    "# Animate the solution\n",
    "anim = matplotlib.animation.FuncAnimation(fig, plot_frame,\n",
    "                                   frames=len(frames),\n",
    "                                   interval=200,\n",
    "                                   repeat=False)\n",
    "\n",
    "HTML(anim.to_jshtml())"
   ]
  },
  {
   "cell_type": "markdown",
   "metadata": {},
   "source": [
    "### Exercise\n",
    "*Rerun the last three code cells above with different values of $a$ and $\\epsilon$.  What does each of these coefficients do?*\n",
    "\n",
    "*Rerun the code with different initial data.  Does it behave as you expect?*"
   ]
  },
  {
   "cell_type": "markdown",
   "metadata": {},
   "source": [
    "## Review\n",
    "What did we just do?  We solved a partial differential equation computationally.  It's time to think about how accurate the solution is and what approximations we made.\n",
    "\n",
    "The first approximation we made was to take the initial data and approximate it by just the first terms in its Fourier series.  How many terms did we include?  The vector $\\hat{u}$ we computed contains just the first 64 Fourier modes (because we chose to use 64 points in our spatial grid vector $x$).\n",
    "\n",
    "What about the evolution in time?  In fact, our time evolution of the solution is **exact** for the initial data vector, since it just uses the exact solution formula for the ODE that we derived above.\n",
    "\n",
    "In plotting the solution, note that we only used the values at the 64 spatial grid points.  The `plot()` function merely connects these values by straight lines.  We could plot a better representation of the solution by evaluating the Fourier series on a finer grid, but for now we won't worry about that."
   ]
  },
  {
   "cell_type": "markdown",
   "metadata": {
    "heading_collapsed": true
   },
   "source": [
    "## General linear evolution PDEs"
   ]
  },
  {
   "cell_type": "markdown",
   "metadata": {
    "hidden": true
   },
   "source": [
    "The approach we just described isn't particular to the advection-diffusion equation.  In fact, it can be used to solve any linear evolution PDE (including systems of PDEs, but here we'll stick to scalar problems):\n",
    "\n",
    "$$u_t = \\sum_{j=0}^n \\alpha_j \\frac{\\partial^j u}{\\partial x^j}.$$\n",
    "\n",
    "If we take the Fourier transform, or simply apply our ansatz:\n",
    "\n",
    "$$u(x,t; \\xi) = \\hat{u}(t) e^{i\\xi x},$$\n",
    "\n",
    "we get the linear ODE\n",
    "\n",
    "$$\\hat{u}'(t) = \\left(\\sum_{j=0}^n \\alpha_j (i\\xi)^j\\right) \\hat{u}(t) = p(\\xi)\\hat{u}(t)$$\n",
    "\n",
    "with solution\n",
    "\n",
    "$$\\hat{u}(t) = e^{p(\\xi)t}\\hat{u}(0)$$\n",
    "\n",
    "so that\n",
    "\n",
    "$$u(x,t; \\xi) = e^{i\\xi x + p(\\xi)t} \\hat{u}(0).$$\n",
    "\n",
    "Here $p(\\xi)$ is a polynomial with coefficients $i^j \\alpha_j$."
   ]
  },
  {
   "cell_type": "markdown",
   "metadata": {
    "hidden": true
   },
   "source": [
    "We can see that odd-derivative terms correspond to imaginary terms in $p(\\xi)$, which (in the exponential) lead to changes in the phase of the solution, while even-derivative terms correspond to real terms in $p(\\xi)$, which lead to changes in the amplitude of the solution."
   ]
  },
  {
   "cell_type": "code",
   "execution_count": null,
   "metadata": {
    "hidden": true
   },
   "outputs": [],
   "source": []
  }
 ],
 "metadata": {
  "kernelspec": {
   "display_name": "Python 3",
   "language": "python",
   "name": "python3"
  },
  "language_info": {
   "codemirror_mode": {
    "name": "ipython",
    "version": 3
   },
   "file_extension": ".py",
   "mimetype": "text/x-python",
   "name": "python",
   "nbconvert_exporter": "python",
   "pygments_lexer": "ipython3",
   "version": "3.10.4"
  },
  "toc": {
   "base_numbering": 1,
   "nav_menu": {},
   "number_sections": true,
   "sideBar": true,
   "skip_h1_title": false,
   "title_cell": "Table of Contents",
   "title_sidebar": "Contents",
   "toc_cell": false,
   "toc_position": {},
   "toc_section_display": true,
   "toc_window_display": false
  }
 },
 "nbformat": 4,
 "nbformat_minor": 1
}
