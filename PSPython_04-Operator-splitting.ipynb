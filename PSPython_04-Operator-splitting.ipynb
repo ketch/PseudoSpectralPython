{
 "cells": [
  {
   "cell_type": "code",
   "execution_count": null,
   "id": "6fe6c9dc",
   "metadata": {},
   "outputs": [],
   "source": [
    "from IPython.core.display import HTML\n",
    "css_file = './custom.css'\n",
    "HTML(open(css_file, \"r\").read())"
   ]
  },
  {
   "cell_type": "markdown",
   "id": "3a7679d9",
   "metadata": {},
   "source": [
    "###### Content provided under a Creative Commons Attribution license, CC-BY 4.0; code under MIT License. (c)2015-2023 [David I. Ketcheson](http://davidketcheson.info)"
   ]
  },
  {
   "cell_type": "markdown",
   "id": "1e1834c1",
   "metadata": {},
   "source": [
    "##### Version 0.4 - March 2023"
   ]
  },
  {
   "cell_type": "code",
   "execution_count": null,
   "id": "9568f686",
   "metadata": {},
   "outputs": [],
   "source": [
    "import numpy as np\n",
    "%matplotlib inline\n",
    "import matplotlib\n",
    "import matplotlib.pyplot as plt\n",
    "import matplotlib.animation\n",
    "from IPython.display import HTML\n",
    "font = {'size'   : 15}\n",
    "matplotlib.rc('font', **font)\n",
    "\n",
    "fft = np.fft.fft\n",
    "ifft = np.fft.ifft"
   ]
  },
  {
   "cell_type": "markdown",
   "id": "3f91ec28",
   "metadata": {},
   "source": [
    "# Time discretization for pseudospectral methods"
   ]
  },
  {
   "cell_type": "markdown",
   "id": "f2ccd06f",
   "metadata": {},
   "source": [
    "In previous notebooks we have touched briefly on the topic of time discretization.  So far, we have used explicit Runge-Kutta methods and a simple heuristic for determining a stable time step size."
   ]
  },
  {
   "cell_type": "markdown",
   "id": "14cc0ddd",
   "metadata": {},
   "source": [
    "## Stiff semilinear problems\n",
    "\n",
    "Many important applications of pseudospectral methods involve evolution PDEs of the form\n",
    "\n",
    "$$\n",
    "    u_t = f(u) + L(u)\n",
    "$$\n",
    "\n",
    "where $f$ is a non-stiff, nonlinear operator and $L$ is a stiff, linear operator.  Most often, $f$ involves at most first-order derivatives while $L$ involves higher-order derivatives.  An example that we have already dealt with is the KdV equation\n",
    "\n",
    "$$\n",
    "    u_t + uu_x + u_{xxx} = 0\n",
    "$$\n",
    "\n",
    "in which $f(u)=-uu_x$ and $L(u)=-u_{xxx}$.  Other applications which share this overall structure include many other dispersive wave models, the Navier-Stokes equations, the Kuramoto-Sivashinsky equation, and many more.\n",
    "\n",
    "Application of an explicit Runge-Kutta method to such problems is requires that the time step satisfy a condition of the form\n",
    "\n",
    "$$\n",
    "    \\Delta t \\le C (\\Delta x)^j\n",
    "$$\n",
    "\n",
    "where $j$ is the order of the highest derivative in $L(u)$ and $C$ is a constant depending on the spectrum of $g$ and the stability region of the RK method.  This is inefficient, since discretizations based on spectral differentiation in space and high order RK in time can usually give a reasonable local error with $\\Delta t \\approx \\Delta x$.  The computational cost of an explicit time discretization becomes especially noticeable if a large number of spatial grid points is required to resolve the solution.\n",
    "\n",
    "One way to overcome this is to use a fully implicit time discretization with unconditional stability.  However, this incurs the substantial cost of solving a nonlinear algebraic system of equations at each step.\n",
    "\n",
    "A number of specialized classes of time discretizations have been developed to efficiently solve problems in this class.  In this notebook we will briefly examine each of the following:\n",
    "\n",
    "- Simple operator splitting (fractional-step methods)\n",
    "- ImEx additive Runge-Kutta methods\n",
    "- Exponential integrators\n",
    "\n",
    "In the examples here, we consider only stiff semilinear problems.  For some problems of interest, the stiff operator $L$ is also nonlinear.  In such problems, similar approaches can be employed, but the cost per step will be noticeably higher.\n",
    "\n",
    "For an excellent (though now somewhat out-of-date) study of these and other methods, see [the 2005 paper of Kassam and Trefethen](https://epubs.siam.org/doi/epdf/10.1137/S1064827502410633)."
   ]
  },
  {
   "cell_type": "markdown",
   "id": "d83e8dac",
   "metadata": {},
   "source": [
    "## Explicit integration\n",
    "Let's time our earlier implementation."
   ]
  },
  {
   "cell_type": "code",
   "execution_count": null,
   "id": "eb68c66a",
   "metadata": {},
   "outputs": [],
   "source": [
    "def rk3(u,xi,rhs,dt,filtr):\n",
    "    y2 = u + dt*rhs(u,xi,filtr)\n",
    "    y3 = 0.75*u + 0.25*(y2 + dt*rhs(y2,xi,filtr))\n",
    "    u_new = 1./3 * u + 2./3 * (y3 + dt*rhs(y3,xi,filtr))\n",
    "    return u_new\n",
    "\n",
    "def rhs(u, xi, filtr):\n",
    "    uhat = np.fft.fft(u)\n",
    "    return -u*np.real(np.fft.ifft(1j*xi*uhat)) - \\\n",
    "            np.real(np.fft.ifft(-1j*xi**3*uhat))\n",
    "    \n",
    "def solve_KdV_ERK(m,dt):\n",
    "    L = 2*np.pi\n",
    "    x = np.arange(-m/2,m/2)*(L/m)\n",
    "    xi = np.fft.fftfreq(m)*m*2*np.pi/L\n",
    "\n",
    "    u = 1500*np.exp(-10*(x+2)**2)\n",
    "    tmax = 0.005\n",
    "\n",
    "    uhat2 = np.abs(np.fft.fft(u))\n",
    "\n",
    "    num_plots = 50\n",
    "    nplt = np.floor((tmax/num_plots)/dt)\n",
    "    nmax = int(round(tmax/dt))\n",
    "\n",
    "    frames = [u.copy()]\n",
    "    tt = [0]\n",
    "    uuhat = [uhat2]\n",
    "    filtr = np.ones_like(u)\n",
    "    \n",
    "    for n in range(1,nmax+1):\n",
    "        u_new = rk3(u,xi,rhs,dt,filtr)\n",
    "\n",
    "        u = u_new.copy()\n",
    "        t = n*dt\n",
    "        # Plotting\n",
    "        if np.mod(n,nplt) == 0:\n",
    "            frames.append(u.copy())\n",
    "            tt.append(t)\n",
    "            uhat2 = np.abs(np.fft.fft(u))\n",
    "            uuhat.append(uhat2)\n",
    "    return frames, uuhat, x, tt, xi\n",
    "    \n",
    "\n",
    "\n",
    "def plot_solution(frames, uuhat, x, tt, xi):\n",
    "    fig = plt.figure(figsize=(12,8))\n",
    "    axes = fig.add_subplot(211)\n",
    "    axes2 = fig.add_subplot(212)\n",
    "    line, = axes.plot(x,frames[0],lw=3)\n",
    "    line2, = axes2.semilogy(xi,np.abs(np.fft.fft(frames[0])))\n",
    "    xi_max = np.max(np.abs(xi))\n",
    "    axes2.semilogy([xi_max/2.,xi_max/2.],[1.e-6,4e8],'--r')\n",
    "    axes2.semilogy([-xi_max/2.,-xi_max/2.],[1.e-8,4e10],'--r')\n",
    "    axes.set_xlabel(r'$x$',fontsize=30)\n",
    "    axes2.set_xlabel(r'$\\xi$',fontsize=30)\n",
    "    plt.tight_layout()\n",
    "    plt.close()\n",
    "\n",
    "    def plot_frame(i):\n",
    "        line.set_data(x,frames[i])\n",
    "        power_spectrum = np.abs(uuhat[i])**2\n",
    "        line2.set_data(np.sort(xi),power_spectrum[np.argsort(xi)])\n",
    "        axes.set_title('t= %.2e' % tt[i])\n",
    "        axes.set_xlim((-np.pi,np.pi))\n",
    "        axes.set_ylim((-200,3000))\n",
    "\n",
    "    anim = matplotlib.animation.FuncAnimation(fig, plot_frame,\n",
    "                                              frames=len(frames), interval=100,\n",
    "                                              repeat=False)\n",
    "    return HTML(anim.to_jshtml())"
   ]
  },
  {
   "cell_type": "code",
   "execution_count": null,
   "id": "3f6b20fa",
   "metadata": {},
   "outputs": [],
   "source": [
    "%%timeit\n",
    "\n",
    "m = 512\n",
    "dt = 1.73/((m/2)**3)\n",
    "\n",
    "frames, uuhat, x, tt, xi = solve_KdV_ERK(m,dt)"
   ]
  },
  {
   "cell_type": "markdown",
   "id": "1abe216a",
   "metadata": {},
   "source": [
    "# Operator splitting"
   ]
  },
  {
   "cell_type": "markdown",
   "id": "5660e223",
   "metadata": {},
   "source": [
    "Operator splitting consists of alternately solving the evolution equations\n",
    "\n",
    "\\begin{align}\n",
    "    u_t & = f(u) \\\\\n",
    "    u_t & = L(u).\n",
    "\\end{align}\n",
    "\n",
    "In the simplest operator splitting approach, known in different contexts as Lie-Trotter splitting or Godunov splitting, one time step simply consists of a full time step on each equation.  For the substeps, one may use any desired time integration method.  For instance, if the explicit Euler method is used, the discretization takes the form\n",
    "\n",
    "\\begin{align}\n",
    "    u^* & = u^n + \\Delta t f(u^n) \\\\\n",
    "    u^{n+1} & = u^* + \\Delta t L(u^*).\n",
    "\\end{align}\n",
    "\n",
    "We can write this more abstractly as\n",
    "\n",
    "$$\n",
    "    u^{n+1} = \\exp(\\Delta t L) \\exp(\\Delta t f) u^n,\n",
    "$$\n",
    "\n",
    "where it is understood that $\\exp(L)$ represents an approximation to the solution operator for the equation $u_t = L(u)$.  \n",
    "\n",
    "## Accuracy\n",
    "\n",
    "Clearly, splitting methods involve two sources of discretization error:\n",
    "\n",
    " - Errors due to the discretization of the substeps\n",
    " - Errors due to the splitting itself\n",
    " \n",
    "In the case of Lie-Trotter splitting, even if the substeps are solved exactly, the splitting error results in a first-order accurate method.  Second-order accuracy can be achieved using **Strang splitting**:\n",
    "\n",
    "$$\n",
    "    u^{n+1} = \\exp((\\Delta t/2) L) \\exp(\\Delta t f) \\exp((\\Delta t/2) L) u^n.\n",
    "$$\n",
    "\n",
    "Although this seems to require 50% more substeps, in practice the cost is negligible since the half-steps with $L$ in adjacent steps can be combined, so one only needs to take a half-step at the beginning and a half-step at the end.  However, in practice one often sees relatively little difference in accuracy between Lie-Trotter and Strang splitting.\n",
    "\n",
    "## Stability and time step size\n",
    "\n",
    "For stiff semilinear problems (such as the KdV equation), since $g$ is a linear differential operator, one can use a pure spectral discretization in order to solve $u_t = L(u)$ exactly (and cheaply), as discussed in the first notebook of this course.  With this approach, the $L$ substep is also unconditionally stable, so the step size can be chosen based entirely on the properties of $f$ (or based on desired accuracy).\n",
    "\n",
    "For some problems, such as the nonlinear Schrodinger equation, operator splitting allows for both substeps to be solved exactly."
   ]
  },
  {
   "cell_type": "code",
   "execution_count": null,
   "id": "9d2c9697",
   "metadata": {
    "code_folding": []
   },
   "outputs": [],
   "source": [
    "def rhs_f(u, xi, filtr):\n",
    "    # Evaluate only the non-stiff nonlinear term\n",
    "    uhat = np.fft.fft(u)\n",
    "    return -u*np.real(np.fft.ifft(1j*xi*uhat*filtr))\n",
    "\n",
    "#def rhs_f(u, xi, filtr):\n",
    "#    return -np.real(ifft(1j*xi*fft(u**2)*filtr))\n",
    "\n",
    "def substep_g(u, xi, dt):\n",
    "    # Advance the solution using only the stiff linear term\n",
    "    uhat = np.fft.fft(u)\n",
    "    return np.real(np.fft.ifft(np.exp(1j*xi**3*dt)*uhat))\n",
    "\n",
    "def solve_KdV_Lie_Trotter(m,dt,use_filter=True):\n",
    "    L = 2*np.pi\n",
    "    x = np.arange(-m/2,m/2)*(L/m)\n",
    "    xi = np.fft.fftfreq(m)*m*2*np.pi/L\n",
    "\n",
    "    u = 1500*np.exp(-10*(x+2)**2)\n",
    "    tmax = 0.005\n",
    "\n",
    "    uhat2 = np.abs(np.fft.fft(u))\n",
    "\n",
    "    num_plots = 50\n",
    "    nplt = np.floor((tmax/num_plots)/dt)\n",
    "    nmax = int(round(tmax/dt))\n",
    "\n",
    "    frames = [u.copy()]\n",
    "    tt = [0]\n",
    "    uuhat = [uhat2]\n",
    "\n",
    "    filtr = np.ones_like(xi)\n",
    "    \n",
    "    if use_filter:\n",
    "        xi_max = np.max(np.abs(xi))\n",
    "        filtr[np.where(np.abs(xi)>xi_max*2./3)] = 0.\n",
    "\n",
    "    for n in range(1,nmax+1):\n",
    "        u_star = rk3(u,xi,rhs_f,dt,filtr)\n",
    "        u_new = substep_g(u_star,xi,dt)\n",
    "            \n",
    "        u = u_new.copy()\n",
    "        t = n*dt\n",
    "        # Plotting\n",
    "        if np.mod(n,nplt) == 0:\n",
    "            frames.append(u.copy())\n",
    "            tt.append(t)\n",
    "            uhat2 = np.abs(np.fft.fft(u))\n",
    "            uuhat.append(uhat2)\n",
    "    return frames, uuhat, x, tt, xi"
   ]
  },
  {
   "cell_type": "code",
   "execution_count": null,
   "id": "28880661",
   "metadata": {},
   "outputs": [],
   "source": [
    "m = 2048\n",
    "umax = 3000\n",
    "dt = 1.73/(m/2)/umax\n",
    "use_filter=True\n",
    "\n",
    "frames, uuhat, x, tt, xi = solve_KdV_Lie_Trotter(m,dt,use_filter)"
   ]
  },
  {
   "cell_type": "code",
   "execution_count": null,
   "id": "e0debf94",
   "metadata": {
    "scrolled": false
   },
   "outputs": [],
   "source": [
    "plot_solution(frames, uuhat, x, tt, xi)"
   ]
  },
  {
   "cell_type": "markdown",
   "id": "fabbab6b",
   "metadata": {},
   "source": [
    "Notes:\n",
    "- Instability usually appears even with a fine spatial mesh, unless filtering is applied.  This appears to be due to the first-order operator splitting itself exciting an aliasing instability.\n",
    "- Due to the improvement in linear stability, we can take a drastically larger time step.  Even with a highly-refined mesh ($m=2048$) the simulation above runs in less than one second.\n",
    "- A more efficient implementation could reduce by one the number of FFTs required per step."
   ]
  },
  {
   "cell_type": "markdown",
   "id": "c77331c3",
   "metadata": {},
   "source": [
    "## A high-order operator splitting method\n",
    "\n",
    "Many higher-order operator splitting methods have been developed; a collection of many of them is maintained at https://www.asc.tuwien.ac.at/~winfried/splitting/index.php.  Here we implement a 4th-order method that takes the form\n",
    "\n",
    "$$\n",
    "u^{n+1} = \\prod_{j=1}^5 e^{b_j\\Delta t f}e^{a_j\\Delta t L} u^n,\n",
    "$$\n",
    "\n",
    "i.e. we alternate between solving the stiff and non-stiff parts, 5 times each (actually just 4 times for the non-stiff part since $b_5=0$).  This particular scheme is symmetric, meaning that $a_j = a_{6-j}$ and $b_j=b_{5-j}$."
   ]
  },
  {
   "cell_type": "code",
   "execution_count": null,
   "id": "bfc3b537",
   "metadata": {},
   "outputs": [],
   "source": [
    "a = np.array([0.267171359000977615,-0.0338279096695056672,\n",
    "              0.5333131013370561044,-0.0338279096695056672\n",
    "              ,0.267171359000977615])\n",
    "b = np.array([-0.361837907604416033,0.861837907604416033,\n",
    "              0.861837907604416033,-0.361837907604416033,0.])\n",
    "\n",
    "def rhs_f(u, xi, filtr):\n",
    "    # Evaluate only the non-stiff nonlinear term\n",
    "    uhat = np.fft.fft(u)\n",
    "    return -u*np.real(np.fft.ifft(1j*xi*uhat*filtr))\n",
    "\n",
    "def substep_L(u, xi, dt):\n",
    "    # Advance the solution using only the stiff linear term\n",
    "    uhat = np.fft.fft(u)\n",
    "    return np.real(np.fft.ifft(np.exp(1j*xi**3*dt)*uhat))\n",
    "\n",
    "def solve_KdV_AK4(m,dt,use_filter=True):\n",
    "    L = 2*np.pi\n",
    "    x = np.arange(-m/2,m/2)*(L/m)\n",
    "    xi = np.fft.fftfreq(m)*m*2*np.pi/L\n",
    "\n",
    "    u = 1500*np.exp(-10*(x+2)**2)\n",
    "    tmax = 0.005\n",
    "\n",
    "    uhat2 = np.abs(np.fft.fft(u))\n",
    "\n",
    "    num_plots = 50\n",
    "    nplt = np.floor((tmax/num_plots)/dt)\n",
    "    nmax = int(round(tmax/dt))\n",
    "\n",
    "    frames = [u.copy()]\n",
    "    tt = [0]\n",
    "    uuhat = [uhat2]\n",
    "\n",
    "    filtr = np.ones_like(xi)\n",
    "    \n",
    "    if use_filter:\n",
    "        xi_max = np.max(np.abs(xi))\n",
    "        filtr[np.where(np.abs(xi)>xi_max*2./3)] = 0.\n",
    "\n",
    "    for n in range(1,nmax+1):\n",
    "        u_star = u.copy()\n",
    "        for j in range(5):\n",
    "            u_star = substep_L(u_star,xi,a[j]*dt)\n",
    "            u_star = rk3(u_star,xi,rhs_f,b[j]*dt,filtr)\n",
    "            \n",
    "        u = u_star.copy()\n",
    "        t = n*dt\n",
    "        # Plotting\n",
    "        if np.mod(n,nplt) == 0:\n",
    "            frames.append(u.copy())\n",
    "            tt.append(t)\n",
    "            uhat2 = np.abs(np.fft.fft(u))\n",
    "            uuhat.append(uhat2)\n",
    "    return frames, uuhat, x, tt, xi"
   ]
  },
  {
   "cell_type": "code",
   "execution_count": null,
   "id": "905439c3",
   "metadata": {},
   "outputs": [],
   "source": [
    "m = 2048\n",
    "umax = 3000\n",
    "dt = 1.73/(m/2)/umax\n",
    "use_filter=True\n",
    "\n",
    "frames, uuhat, x, tt, xi = solve_KdV_AK4(m,dt,use_filter)"
   ]
  },
  {
   "cell_type": "code",
   "execution_count": null,
   "id": "e0da6a40",
   "metadata": {},
   "outputs": [],
   "source": [
    "plot_solution(frames, uuhat, x, tt, xi)"
   ]
  },
  {
   "cell_type": "markdown",
   "id": "cd9d94a6",
   "metadata": {},
   "source": [
    "With this method also, it seems that filtering is necessary regardless of the spatial resolution."
   ]
  },
  {
   "cell_type": "markdown",
   "id": "4446025f",
   "metadata": {},
   "source": [
    "## Comparison"
   ]
  },
  {
   "cell_type": "code",
   "execution_count": null,
   "id": "a08dab3f",
   "metadata": {},
   "outputs": [],
   "source": [
    "m = 1024\n",
    "umax = 3000\n",
    "dt = 1.73/(m/2)/umax\n",
    "use_filter=True\n",
    "\n",
    "frames1, uuhat, x, tt, xi = solve_KdV_Lie_Trotter(m,dt,use_filter)\n",
    "frames4, uuhat, x, tt, xi = solve_KdV_AK4(m,dt,use_filter)\n",
    "\n",
    "plt.figure(figsize=(12,8))\n",
    "plt.plot(x,frames1[-1])\n",
    "plt.plot(x,frames4[-1])\n",
    "plt.legend(['1st-order','4th-order']);"
   ]
  },
  {
   "cell_type": "markdown",
   "id": "402a657c",
   "metadata": {},
   "source": [
    "For this problem, we don't see any difference between the 4th-order solution and the 1st-order solution.  This suggests that the temporal splitting error is not the dominant part of the numerical error."
   ]
  }
 ],
 "metadata": {
  "kernelspec": {
   "display_name": "Python 3 (ipykernel)",
   "language": "python",
   "name": "python3"
  },
  "language_info": {
   "codemirror_mode": {
    "name": "ipython",
    "version": 3
   },
   "file_extension": ".py",
   "mimetype": "text/x-python",
   "name": "python",
   "nbconvert_exporter": "python",
   "pygments_lexer": "ipython3",
   "version": "3.10.4"
  }
 },
 "nbformat": 4,
 "nbformat_minor": 5
}
