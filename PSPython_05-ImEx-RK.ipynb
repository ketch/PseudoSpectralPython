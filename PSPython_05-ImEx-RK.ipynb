{
 "cells": [
  {
   "cell_type": "code",
   "execution_count": null,
   "id": "1da9be32",
   "metadata": {},
   "outputs": [],
   "source": [
    "from IPython.core.display import HTML\n",
    "css_file = './custom.css'\n",
    "HTML(open(css_file, \"r\").read())"
   ]
  },
  {
   "cell_type": "markdown",
   "id": "20544b57",
   "metadata": {},
   "source": [
    "###### Content provided under a Creative Commons Attribution license, CC-BY 4.0; code under MIT License. (c)2015-2023 [David I. Ketcheson](http://davidketcheson.info)"
   ]
  },
  {
   "cell_type": "markdown",
   "id": "c45a2d8a",
   "metadata": {},
   "source": [
    "##### Version 0.4 - March 2023"
   ]
  },
  {
   "cell_type": "code",
   "execution_count": null,
   "id": "9f727307",
   "metadata": {},
   "outputs": [],
   "source": [
    "import numpy as np\n",
    "%matplotlib inline\n",
    "import matplotlib\n",
    "import matplotlib.pyplot as plt\n",
    "import matplotlib.animation\n",
    "from IPython.display import HTML\n",
    "font = {'size'   : 15}\n",
    "matplotlib.rc('font', **font)\n",
    "\n",
    "fft = np.fft.fft\n",
    "ifft = np.fft.ifft"
   ]
  },
  {
   "cell_type": "code",
   "execution_count": null,
   "id": "13604515",
   "metadata": {},
   "outputs": [],
   "source": [
    "def plot_solution(frames, uuhat, x, tt, xi):\n",
    "    fig = plt.figure(figsize=(12,8))\n",
    "    axes = fig.add_subplot(211)\n",
    "    axes2 = fig.add_subplot(212)\n",
    "    line, = axes.plot(x,frames[0],lw=3)\n",
    "    line2, = axes2.semilogy(xi,np.abs(np.fft.fft(frames[0])))\n",
    "    xi_max = np.max(np.abs(xi))\n",
    "    axes2.semilogy([xi_max/2.,xi_max/2.],[1.e-6,4e8],'--r')\n",
    "    axes2.semilogy([-xi_max/2.,-xi_max/2.],[1.e-8,4e10],'--r')\n",
    "    axes.set_xlabel(r'$x$',fontsize=30)\n",
    "    axes2.set_xlabel(r'$\\xi$',fontsize=30)\n",
    "    plt.tight_layout()\n",
    "    plt.close()\n",
    "\n",
    "    def plot_frame(i):\n",
    "        line.set_data(x,frames[i])\n",
    "        power_spectrum = np.abs(uuhat[i])**2\n",
    "        line2.set_data(np.sort(xi),power_spectrum[np.argsort(xi)])\n",
    "        axes.set_title('t= %.2e' % tt[i])\n",
    "        axes.set_xlim((-np.pi,np.pi))\n",
    "        axes.set_ylim((-200,3000))\n",
    "\n",
    "    anim = matplotlib.animation.FuncAnimation(fig, plot_frame,\n",
    "                                              frames=len(frames), interval=100,\n",
    "                                              repeat=False)\n",
    "    return HTML(anim.to_jshtml())"
   ]
  },
  {
   "cell_type": "markdown",
   "id": "7091030c",
   "metadata": {},
   "source": [
    "# ImEx methods"
   ]
  },
  {
   "cell_type": "markdown",
   "id": "452a935a",
   "metadata": {},
   "source": [
    "Next we consider the use of ImEx additive Runge-Kutta methods.  In these methods, $f$ is handled explicitly while $g$ is handled implicitly.  An ImEx RK method takes the form\n",
    "\n",
    "\\begin{align} \\label{ark}\n",
    "    y_i & = u^n + h  \\sum_{j=1}^{i} a_{ij} L(y_j) + h \\sum_{j=1}^{i-1}\\hat{a}_{ij} f(y_j) \\\\\n",
    "    u^{n+1} & = u^n + h \\sum_{j=1}^s \\left(b_j L(y_j) + \\hat{b}_j f(y_j)\\right).\n",
    "\\end{align}\n",
    "\n",
    "The method can be seen as a combination of a diagonally-implicit RK method with coefficients $(A,b)$ and an explicit RK method with coefficients $(\\hat{A},\\hat{b})$.\n",
    "\n",
    "The idea is to benefit from treating the stiff linear term $L$ implicitly and the non-stiff nonlinear term $f$ explicitly.  Stability of additive Runge-Kutta methods is complicated and a subject of ongoing research, but roughly speaking one hopes that if the implicit part of the method is A-stable then the overall method will be stable if the time step is chosen so that the explicit integrator applied to $u_t=f(u)$ would be stable.\n",
    "\n",
    "The coefficients of an additive Runge-Kutta method must satisfy additional order conditions beyond those required for the component methods.\n",
    "\n",
    "The implementation here uses a scheme developed by [Higueras et. al.](https://www.sciencedirect.com/science/article/pii/S0377042714002477) (see Eqn. (17) in that paper).  It has the following useful properties:\n",
    "\n",
    "- Second-order accuracy\n",
    "- Some imaginary axis stability for the explicit method\n",
    "- L-stability for the implicit method\n",
    "\n",
    "The method coefficients are:\n",
    "\n",
    "\\begin{align}\n",
    "\\begin{array}{c|ccc}\n",
    "0 & 0 & 0 & 0 \\\\\n",
    "\\frac{5}{6} & \\frac{5}{6} & 0 & 0 \\\\\n",
    "\\frac{11}{12} & \\frac{11}{24} & \\frac{11}{24} & 0 \\\\\n",
    "\\hline\n",
    " & \\frac{24}{55} & \\frac{1}{5} & \\frac{4}{11}\n",
    "\\end{array}\n",
    "& &\n",
    "\\begin{array}{c|ccc}\n",
    "\\frac{2}{11} & \\frac{2}{11} & 0 & 0 \\\\\n",
    "\\frac{289}{462} & \\frac{205}{462} & \\frac{2}{11} & 0 \\\\\n",
    "\\frac{751}{924} & \\frac{2033}{4620} & \\frac{21}{110} & \\frac{2}{11} \\\\\n",
    "\\hline\n",
    " & \\frac{24}{55} & \\frac{1}{5} & \\frac{4}{11}\n",
    "\\end{array}\n",
    "\\end{align}\n",
    "\n",
    "The explicit part of this method includes the interval $[-1.2i,1.2i]$ in its stability interval, so we incorporate this factor into the time step size."
   ]
  },
  {
   "cell_type": "markdown",
   "id": "0a97c300",
   "metadata": {},
   "source": [
    "## Efficient implementation\n",
    "\n",
    "In the implementation of pseudospectral methods, it's important to use the FFT and inverse FFT rather than naively performing dense matrix multiplications and solves.  For a pseudospectral discretization, we have\n",
    "\n",
    "$$\n",
    "    L = F^{-1} D F,\n",
    "$$\n",
    "where $D$ is a diagonal matrix and $F, F^{-1}$ are the discrete Fourier transform and its inverse.\n",
    "\n",
    "one stage of an ImEx RK method then takes the form\n",
    "$$\n",
    "    y_i = u^n + h  \\sum_{j=1}^{i} a_{ij} F^{-1} D F y_j + h \\sum_{j=1}^{i-1}\\hat{a}_{ij} f(y_j).\n",
    "$$\n",
    "\n",
    "Solving this for $y_i$ gives\n",
    "$$\n",
    "    y_i = (I-a_{ii} h F^{-1} D F)^{-1} \\left(u^n + h  \\sum_{j=1}^{i-1} a_{ij} F^{-1} D F y_j + h \\sum_{j=1}^{i-1}\\hat{a}_{ij} f(y_j)\\right).\n",
    "$$\n",
    "\n",
    "We can write\n",
    "\n",
    "$$\n",
    "    (I-a_{ii} h F^{-1} D F)^{-1} = F^{-1}(I-a_{ii} h D)^{-1} F.\n",
    "$$\n",
    "\n",
    "Note that $I-a_{ii} h D$ is a diagonal matrix, so its inverse is trivial to compute.  Then the stage can be implemented in the form\n",
    "\n",
    "$$\n",
    "    y_i = F^{-1} (I-a_{ii} h D)^{-1} F \\left(u^n + h  \\sum_{j=1}^{i-1} a_{ij} F^{-1} D F y_j + h \\sum_{j=1}^{i-1}\\hat{a}_{ij} f(y_j)\\right).\n",
    "$$"
   ]
  },
  {
   "cell_type": "code",
   "execution_count": null,
   "id": "7059071f",
   "metadata": {},
   "outputs": [],
   "source": [
    "# Higueras (17)\n",
    "A    = np.array([[0,0,0],[5/6.,0,0],[11/24,11/24,0]])\n",
    "Ahat = np.array([[2./11,0,0],[205/462.,2./11,0],[2033/4620,21/110,2/11]])\n",
    "b = np.array([24/55.,1./5,4./11])\n",
    "bhat = b\n",
    "\n",
    "def rhs_f(u, xi, filtr):\n",
    "    # Evaluate only the non-stiff nonlinear term\n",
    "    uhat = np.fft.fft(u)\n",
    "    return -u*np.real(np.fft.ifft(1j*xi*uhat*filtr))\n",
    "\n",
    "def solve_KdV_ImEx2(m,dt,use_filter=True):\n",
    "    L = 2*np.pi\n",
    "    x = np.arange(-m/2,m/2)*(L/m)\n",
    "    xi = np.fft.fftfreq(m)*m*2*np.pi/L\n",
    "\n",
    "    u = 1500*np.exp(-10*(x+2)**2)\n",
    "    tmax = 0.05\n",
    "\n",
    "    uhat2 = np.abs(np.fft.fft(u))\n",
    "\n",
    "    num_plots = 50\n",
    "    nplt = np.floor((tmax/num_plots)/dt)\n",
    "    nmax = int(round(tmax/dt))\n",
    "\n",
    "    frames = [u.copy()]\n",
    "    tt = [0]\n",
    "    uuhat = [uhat2]\n",
    "\n",
    "    filtr = np.ones_like(xi)\n",
    "    \n",
    "    if use_filter:\n",
    "        xi_max = np.max(np.abs(xi))\n",
    "        filtr[np.where(np.abs(xi)>xi_max*2./3)] = 0.\n",
    "\n",
    "    # Assumes all diagonal entries of Ahat are equal:\n",
    "    Lfactor = 1/(1-Ahat[0,0]*dt*1j*xi**3)\n",
    "    D = 1j*xi**3\n",
    "    \n",
    "    for n in range(1,nmax+1):\n",
    "        y1 = ifft(Lfactor*fft(u))\n",
    "        Ly1 = ifft(D*fft(y1))\n",
    "        fy1 = rhs_f(y1,xi,filtr)\n",
    "        y2rhs = u + dt*(A[1,0]*fy1+Ahat[1,0]*Ly1)\n",
    "        y2 = ifft(Lfactor*fft(y2rhs))\n",
    "        Ly2 = ifft(D*fft(y2))\n",
    "        fy2 = rhs_f(y2,xi,filtr)\n",
    "        y3rhs = u + dt*(A[2,0]*fy1+A[2,1]*fy2 + Ahat[2,0]*Ly1 + \\\n",
    "                        Ahat[2,1]*Ly2)\n",
    "        y3 = ifft(Lfactor*fft(y3rhs))\n",
    "        Ly3 = ifft(D*fft(y3))\n",
    "        fy3 = rhs_f(y3,xi,filtr)\n",
    "        u_new = u + dt*np.real(b[0]*(fy1+Ly1) + b[1]*(fy2+Ly2) + \\\n",
    "                               b[2]*(fy3+Ly3))\n",
    "            \n",
    "        u = u_new.copy()\n",
    "        t = n*dt\n",
    "        # Plotting\n",
    "        if np.mod(n,nplt) == 0:\n",
    "            frames.append(u.copy())\n",
    "            tt.append(t)\n",
    "            uhat2 = np.abs(np.fft.fft(u))\n",
    "            uuhat.append(uhat2)\n",
    "    return frames, uuhat, x, tt, xi"
   ]
  },
  {
   "cell_type": "code",
   "execution_count": null,
   "id": "6387a5ba",
   "metadata": {},
   "outputs": [],
   "source": [
    "m = 1024\n",
    "umax = 3000\n",
    "dt = 1.2/(m/2)/umax\n",
    "use_filter=False\n",
    "\n",
    "frames, uuhat, x, tt, xi = solve_KdV_ImEx2(m,dt,use_filter)"
   ]
  },
  {
   "cell_type": "code",
   "execution_count": null,
   "id": "e13aac63",
   "metadata": {},
   "outputs": [],
   "source": [
    "plot_solution(frames, uuhat, x, tt, xi)"
   ]
  },
  {
   "cell_type": "markdown",
   "id": "5d7ace3e",
   "metadata": {},
   "source": [
    "We note that this method appears to be stable without filtering, as long as our spatial grid is fine enough to resolve the solution."
   ]
  },
  {
   "cell_type": "markdown",
   "id": "f4b4cfa5",
   "metadata": {},
   "source": [
    "# Concluding remarks\n",
    "In the [comparison by Kassam & Trefethen](https://epubs.siam.org/doi/epdf/10.1137/S1064827502410633), ImEx multistep methods did not perform well.  In fact, they did not work at all for the KdV equation in particular.  Here we see that an ImEx Runge-Kutta method with appropriately-designed properties seems to work extremely well for the KdV equation.  In fact, out of all the efficient time-stepping methods we will study, this is the only one that does not seem to require filtering."
   ]
  }
 ],
 "metadata": {
  "kernelspec": {
   "display_name": "Python 3 (ipykernel)",
   "language": "python",
   "name": "python3"
  },
  "language_info": {
   "codemirror_mode": {
    "name": "ipython",
    "version": 3
   },
   "file_extension": ".py",
   "mimetype": "text/x-python",
   "name": "python",
   "nbconvert_exporter": "python",
   "pygments_lexer": "ipython3",
   "version": "3.10.4"
  }
 },
 "nbformat": 4,
 "nbformat_minor": 5
}
