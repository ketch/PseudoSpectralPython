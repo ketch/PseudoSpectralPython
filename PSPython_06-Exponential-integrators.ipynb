{
 "cells": [
  {
   "cell_type": "code",
   "execution_count": null,
   "id": "060a6dda",
   "metadata": {},
   "outputs": [],
   "source": [
    "from IPython.core.display import HTML\n",
    "css_file = './custom.css'\n",
    "HTML(open(css_file, \"r\").read())"
   ]
  },
  {
   "cell_type": "markdown",
   "id": "081c8761",
   "metadata": {},
   "source": [
    "###### Content provided under a Creative Commons Attribution license, CC-BY 4.0; code under MIT License. (c)2015-2023 [David I. Ketcheson](http://davidketcheson.info)\n",
    "\n",
    "##### Version 0.4 - March 2023"
   ]
  },
  {
   "cell_type": "code",
   "execution_count": null,
   "id": "2563c3b2",
   "metadata": {},
   "outputs": [],
   "source": [
    "import numpy as np\n",
    "%matplotlib inline\n",
    "import matplotlib\n",
    "import matplotlib.pyplot as plt\n",
    "import matplotlib.animation\n",
    "from IPython.display import HTML\n",
    "font = {'size'   : 15}\n",
    "matplotlib.rc('font', **font)\n",
    "\n",
    "fft = np.fft.fft\n",
    "ifft = np.fft.ifft"
   ]
  },
  {
   "cell_type": "code",
   "execution_count": null,
   "id": "d6eebd99",
   "metadata": {},
   "outputs": [],
   "source": [
    "def plot_solution(frames, uuhat, x, tt, xi):\n",
    "    fig = plt.figure(figsize=(12,8))\n",
    "    axes = fig.add_subplot(211)\n",
    "    axes2 = fig.add_subplot(212)\n",
    "    line, = axes.plot(x,frames[0],lw=3)\n",
    "    line2, = axes2.semilogy(xi,np.abs(np.fft.fft(frames[0])))\n",
    "    xi_max = np.max(np.abs(xi))\n",
    "    axes2.semilogy([xi_max/2.,xi_max/2.],[1.e-6,4e8],'--r')\n",
    "    axes2.semilogy([-xi_max/2.,-xi_max/2.],[1.e-8,4e10],'--r')\n",
    "    axes.set_xlabel(r'$x$',fontsize=30)\n",
    "    axes2.set_xlabel(r'$\\xi$',fontsize=30)\n",
    "    plt.tight_layout()\n",
    "    plt.close()\n",
    "\n",
    "    def plot_frame(i):\n",
    "        line.set_data(x,frames[i])\n",
    "        power_spectrum = np.abs(uuhat[i])**2\n",
    "        line2.set_data(np.sort(xi),power_spectrum[np.argsort(xi)])\n",
    "        axes.set_title('t= %.2e' % tt[i])\n",
    "        axes.set_xlim((-np.pi,np.pi))\n",
    "        axes.set_ylim((-200,3000))\n",
    "\n",
    "    anim = matplotlib.animation.FuncAnimation(fig, plot_frame,\n",
    "                                              frames=len(frames), interval=100,\n",
    "                                              repeat=False)\n",
    "    return HTML(anim.to_jshtml())"
   ]
  },
  {
   "cell_type": "markdown",
   "id": "720e5800",
   "metadata": {},
   "source": [
    "# Exponential methods"
   ]
  },
  {
   "cell_type": "markdown",
   "id": "2a9798b9",
   "metadata": {},
   "source": [
    "As we have seen, the exact solution of a linear PDE can be obtained simply by applying the corresponding exponential operator.  We took advantage of this in the operator splitting approach above in order to solve the linear part of the problem exactly.  It's natural to ask if the idea of using the exponential operator can be incorporated directly into a linear multistep or Runge-Kutta type method, in order to avoid the splitting error.  This leads to the concept of exponential integrators.\n",
    "\n",
    "A natural way to derive many exponential integrators starts from Duhamel's principle (also known as the variation-of-constants formula:\n",
    "\n",
    "$$\n",
    "u(t_n+\\Delta t) = e^{\\Delta t L}u(t_n) + \\int_0^{\\Delta t} e^{(\\Delta t-\\tau) L} f(u(t_n+\\tau)).\n",
    "$$\n",
    "\n",
    "By choosing different discrete approximations of the integral, different exponential methods are obtained.  One of the simplest is the first-order **exponential Euler** method:\n",
    "\n",
    "$$\n",
    "    u^{n+1} = e^{\\Delta t L}u^n + \\Delta t \\phi_1(\\Delta t L) f(u^n).\n",
    "$$\n",
    "\n",
    "Here $\\phi_1(z)=(e^z-1)/z$.  This method is first-order accurate.  Like the explicit Euler method, it is not typically suitable for wave equations because of its stability properties."
   ]
  },
  {
   "cell_type": "markdown",
   "id": "6da9094c",
   "metadata": {},
   "source": [
    "## Exponential Euler implementation\n",
    "This one is linearly unstable because Euler's method doesn't contain any part of the imaginary axis.  But if we take a small enough timestep, the solution looks reasonable for some time."
   ]
  },
  {
   "cell_type": "code",
   "execution_count": null,
   "id": "eaf86821",
   "metadata": {},
   "outputs": [],
   "source": [
    "def solve_KdV_Exp1(m,dt):\n",
    "    L = 2*np.pi\n",
    "    x = np.arange(-m/2,m/2)*(L/m)\n",
    "    xi = np.fft.fftfreq(m)*m*2*np.pi/L\n",
    "\n",
    "    u = 1500*np.exp(-10*(x+2)**2)\n",
    "    tmax = 0.005\n",
    "\n",
    "    uhat2 = np.abs(np.fft.fft(u))\n",
    "\n",
    "    num_plots = 50\n",
    "    nplt = np.floor((tmax/num_plots)/dt)\n",
    "    nmax = int(round(tmax/dt))\n",
    "\n",
    "    frames = [u.copy()]\n",
    "    tt = [0]\n",
    "    uuhat = [uhat2]\n",
    "    filtr = np.ones_like(u)\n",
    "\n",
    "    D = 1j*xi**3*dt\n",
    "    eps = 1.e-16\n",
    "    phi1 = (np.exp(D)-1.)/(1j*xi**3*dt+eps)\n",
    "    phi1 = np.diag(phi1)\n",
    "    \n",
    "    for n in range(1,nmax+1):\n",
    "        uhat = np.fft.fft(u)\n",
    "        uux = -u*np.real(np.fft.ifft(1j*xi*uhat*filtr))\n",
    "        uuxhat = np.fft.fft(uux)\n",
    "        u_new = np.real(np.fft.ifft(np.exp(1j*xi**3*dt)*uhat) \\\n",
    "                    + dt*(np.fft.ifft(phi1@uuxhat)))\n",
    "        \n",
    "        u = u_new.copy()\n",
    "        t = n*dt\n",
    "        # Plotting\n",
    "        if np.mod(n,nplt) == 0:\n",
    "            frames.append(u.copy())\n",
    "            tt.append(t)\n",
    "            uhat2 = np.abs(np.fft.fft(u))\n",
    "            uuhat.append(uhat2)\n",
    "    return frames, uuhat, x, tt, xi"
   ]
  },
  {
   "cell_type": "code",
   "execution_count": null,
   "id": "802cb4f6",
   "metadata": {},
   "outputs": [],
   "source": [
    "m = 512\n",
    "umax = 1500\n",
    "dt = 1.73/(m/2)/umax * 0.1\n",
    "\n",
    "frames, uuhat, x, tt, xi = solve_KdV_Exp1(m,dt)"
   ]
  },
  {
   "cell_type": "code",
   "execution_count": null,
   "id": "9ef79e02",
   "metadata": {},
   "outputs": [],
   "source": [
    "plot_solution(frames, uuhat, x, tt, xi)"
   ]
  },
  {
   "cell_type": "markdown",
   "id": "7ca5fe57",
   "metadata": {},
   "source": [
    "Here we see that, even though we've taken a relatively small step size, the solution grows over time.\n",
    "\n",
    "Higher-order exponential Runge-Kutta methods can be constructed using additional stages and higher order $\\phi$ functions, which are defined recursively by\n",
    "$\\phi_{k+1}(z) = (\\phi_k(z)-\\phi_k(0))/z$.  The accurate evaluation of these functions for both large and small values of $z$ requires special techniques, such as those employed by [Kassam & Trefethen](https://epubs.siam.org/doi/epdf/10.1137/S1064827502410633)."
   ]
  },
  {
   "cell_type": "markdown",
   "id": "668a2e21",
   "metadata": {},
   "source": [
    "## 4th-order exponential (Lawson4) method"
   ]
  },
  {
   "cell_type": "markdown",
   "id": "8d883ab1",
   "metadata": {},
   "source": [
    "Alternatively, one can design methods that use only the exponential function itself.  Such methods are often referred to as Lawson-type methods.  Here we implement a 4th-order Lawson-type method that is similar to a Runge-Kutta method:\n",
    "\n",
    "\\begin{align}\n",
    "y_i & = \\exp(c_i \\Delta t L)u^n + h \\sum_{j=1}^s a_{ij}(\\Delta t L)f(y_j) \\\\\n",
    "u^{n+1} & = \\exp(\\Delta t L)u^n + h \\sum_{j=1}^s b_j(\\Delta t L)f(y_j).\n",
    "\\end{align}\n",
    "\n",
    "The coefficients are functions of the linear operator $\\Delta t L$.  Starting from a traditional Runge-Kutta method, the coefficients of a Lawson method are simply\n",
    "\n",
    "\\begin{align}\n",
    "    a_{ij}(z) & = \\tilde{a}_{ij}(z) \\exp((c_i-c_j)z) \\\\\n",
    "    b_j(z) & = \\tilde{b}_j(z) \\exp((1-c_j)z).\n",
    "\\end{align}\n",
    "\n",
    "The method implemented below is based on the classical 4th-order Runge-Kutta method, and has the following coefficients:\n",
    "\n",
    "\\begin{align}\n",
    "\\begin{array}{c|cccc}\n",
    " &  &  &  & \\\\\n",
    "\\frac{1}{2} & \\frac{1}{2}e^{z/2} &  &  & \\\\\n",
    "\\frac{1}{2} &  & \\frac{1}{2} &  & \\\\\n",
    "1 &  &  & e^{z/2} & \\\\\n",
    "\\hline\n",
    " & \\frac{1}{6}e^z & \\frac{1}{3}e^{z/2} & \\frac{1}{3}e^{z/2} & \\frac{1}{6}\\\\\n",
    "\\end{array}\n",
    "\\end{align}"
   ]
  },
  {
   "cell_type": "code",
   "execution_count": null,
   "id": "2a08e3d7",
   "metadata": {},
   "outputs": [],
   "source": [
    "def uux(u,xi,filtr):\n",
    "    return -u*np.real(ifft(1j*xi*fft(u)*filtr))\n",
    "\n",
    "def solve_KdV_Exp4(m,dt,use_filter=True):\n",
    "    L = 2*np.pi\n",
    "    x = np.arange(-m/2,m/2)*(L/m)\n",
    "    xi = np.fft.fftfreq(m)*m*2*np.pi/L\n",
    "\n",
    "    u = 1500*np.exp(-10*(x+2)**2)\n",
    "    tmax = 0.005\n",
    "\n",
    "    uhat2 = np.abs(np.fft.fft(u))\n",
    "\n",
    "    num_plots = 50\n",
    "    nplt = np.floor((tmax/num_plots)/dt)\n",
    "    nmax = int(round(tmax/dt))\n",
    "\n",
    "    frames = [u.copy()]\n",
    "    tt = [0]\n",
    "    uuhat = [uhat2]\n",
    "    filtr = np.ones_like(u)\n",
    "    if use_filter:\n",
    "        xi_max = np.max(np.abs(xi))\n",
    "        filtr[np.where(np.abs(xi)>xi_max*2./3)] = 0.\n",
    "        \n",
    "    z = 1j*xi**3*dt\n",
    "    ez2 = np.exp(0.5*z)\n",
    "    ez = np.exp(z)\n",
    "    \n",
    "    for n in range(1,nmax+1):\n",
    "        uhat = fft(u)\n",
    "        \n",
    "        y2 = ifft(ez2*uhat) + dt/2 * ifft(ez2*fft(uux(u,xi,filtr)))\n",
    "        y3 = ifft(ez2*uhat) + dt/2 * uux(y2,xi,filtr)\n",
    "        y4 = ifft(ez*uhat)  + dt   * ifft(ez2*fft(uux(y3,xi,filtr)))\n",
    "        u_new = np.real(ifft(ez*uhat) + dt/6 * (ifft(ez*fft(uux(u,xi,filtr))) \\\n",
    "                    + 2*ifft(ez2*fft(uux(y2,xi,filtr))) \\\n",
    "                    + 2*ifft(ez2*fft(uux(y3,xi,filtr))) \\\n",
    "                    + uux(y4,xi,filtr) ))\n",
    "        u_new = ifft(filtr*fft(u_new))\n",
    "        \n",
    "        u = u_new.copy()\n",
    "        t = n*dt\n",
    "        # Plotting\n",
    "        if np.mod(n,nplt) == 0:\n",
    "            frames.append(u.copy())\n",
    "            tt.append(t)\n",
    "            uhat2 = np.abs(np.fft.fft(u))\n",
    "            uuhat.append(uhat2)\n",
    "    return frames, uuhat, x, tt, xi"
   ]
  },
  {
   "cell_type": "code",
   "execution_count": null,
   "id": "e46d4f65",
   "metadata": {},
   "outputs": [],
   "source": [
    "m = 2048\n",
    "umax = 3000\n",
    "dt = 1./(m/2)/umax\n",
    "\n",
    "frames, uuhat, x, tt, xi = solve_KdV_Exp4(m,dt,True)"
   ]
  },
  {
   "cell_type": "code",
   "execution_count": null,
   "id": "82dfa65a",
   "metadata": {},
   "outputs": [],
   "source": [
    "plot_solution(frames, uuhat, x, tt, xi)"
   ]
  },
  {
   "cell_type": "markdown",
   "id": "412cbc8e",
   "metadata": {},
   "source": [
    "The implementation here is not optimal and could be made even faster.  Nevertheless, we see that a highly accurate solution can be obtained in a fraction of the time required for our original explicit RK implementation.  We see that filtering is required, and even with filtering the solution becomes unstable after sufficiently long times."
   ]
  },
  {
   "cell_type": "markdown",
   "id": "20507268",
   "metadata": {},
   "source": [
    "## Krasny filtering\n",
    "As an alternative filtering approach, one can simply remove all energy from Fourier modes that already have only a small amount of energy.  This is implemented below."
   ]
  },
  {
   "cell_type": "code",
   "execution_count": null,
   "id": "26b8b22f",
   "metadata": {},
   "outputs": [],
   "source": [
    "fft = np.fft.fft\n",
    "ifft = np.fft.ifft\n",
    "\n",
    "def uux(u,xi,filtr):\n",
    "    return -u*np.real(ifft(1j*xi*fft(u)))\n",
    "\n",
    "def solve_KdV_Exp4(m,dt,use_filter=\"Krasny\"):\n",
    "    L = 2*np.pi\n",
    "    x = np.arange(-m/2,m/2)*(L/m)\n",
    "    xi = np.fft.fftfreq(m)*m*2*np.pi/L\n",
    "\n",
    "    u = 1500*np.exp(-10*(x+2)**2)\n",
    "    tmax = 0.005\n",
    "\n",
    "    uhat2 = np.abs(np.fft.fft(u))\n",
    "\n",
    "    num_plots = 50\n",
    "    nplt = np.floor((tmax/num_plots)/dt)\n",
    "    nmax = int(round(tmax/dt))\n",
    "\n",
    "    frames = [u.copy()]\n",
    "    tt = [0]\n",
    "    uuhat = [uhat2]\n",
    "        \n",
    "    z = 1j*xi**3*dt\n",
    "    ez2 = np.exp(0.5*z)\n",
    "    ez = np.exp(z)\n",
    "    filtr = np.ones_like(u)\n",
    "    \n",
    "    for n in range(1,nmax+1):\n",
    "        uhat = fft(u)\n",
    "        \n",
    "        y2 = ifft(ez2*uhat) + dt/2 * ifft(ez2*fft(uux(u,xi,filtr)))\n",
    "        y3 = ifft(ez2*uhat) + dt/2 * uux(y2,xi,filtr)\n",
    "        y4 = ifft(ez*uhat)  + dt   * ifft(ez2*fft(uux(y3,xi,filtr)))\n",
    "        u_new = np.real(ifft(ez*uhat) + dt/6 * (ifft(ez*fft(uux(u,xi,filtr))) \\\n",
    "                    + 2*ifft(ez2*fft(uux(y2,xi,filtr))) \\\n",
    "                    + 2*ifft(ez2*fft(uux(y3,xi,filtr))) \\\n",
    "                    + uux(y4,xi,filtr) ))\n",
    "        if use_filter == \"Krasny\":\n",
    "            power = np.abs(fft(u_new))\n",
    "            maxpow = np.max(power)\n",
    "            filtr = np.ones_like(u)\n",
    "            filtr[np.where(power/maxpow<1.e-8)] = 0.\n",
    "            u_new = np.real(ifft(filtr*fft(u_new)))\n",
    "        \n",
    "        u = u_new.copy()\n",
    "        t = n*dt\n",
    "        # Plotting\n",
    "        if np.mod(n,nplt) == 0:\n",
    "            frames.append(u.copy())\n",
    "            tt.append(t)\n",
    "            uhat2 = np.abs(np.fft.fft(u))\n",
    "            uuhat.append(uhat2)\n",
    "    return frames, uuhat, x, tt, xi"
   ]
  },
  {
   "cell_type": "code",
   "execution_count": null,
   "id": "4cd35c54",
   "metadata": {},
   "outputs": [],
   "source": [
    "m = 2048\n",
    "umax = 1500\n",
    "dt = 1./(m/2)/umax\n",
    "\n",
    "frames, uuhat, x, tt, xi = solve_KdV_Exp4(m,dt,\"Krasny\")"
   ]
  },
  {
   "cell_type": "code",
   "execution_count": null,
   "id": "89be3664",
   "metadata": {},
   "outputs": [],
   "source": [
    "plot_solution(frames, uuhat, x, tt, xi)"
   ]
  },
  {
   "cell_type": "markdown",
   "id": "041a6437",
   "metadata": {},
   "source": [
    "The solution with Krasny filtering seems to be more stable overall, and doesn't blow up even after long times.  The downside of this approach is that it requires a cutoff parameter.  If this parameter is set too small, the solution may be unstable, while if it is see too large then accuracy may be lost."
   ]
  },
  {
   "cell_type": "markdown",
   "id": "6eedde83",
   "metadata": {},
   "source": [
    "# References\n",
    "\n",
    "There are a couple of somewhat-outdated but still useful review papers on this topic:\n",
    "\n",
    "- [Minchev & Wright](https://cds.cern.ch/record/848122/files/cer-002531456.pdf)\n",
    "- [Hochbruck & Ostermann](https://doi.org/10.1017/S0962492910000048)\n",
    "\n",
    "The development of this class methods continues to be a very active area of research."
   ]
  },
  {
   "cell_type": "code",
   "execution_count": null,
   "id": "f2e0966e",
   "metadata": {},
   "outputs": [],
   "source": []
  }
 ],
 "metadata": {
  "kernelspec": {
   "display_name": "Python 3 (ipykernel)",
   "language": "python",
   "name": "python3"
  },
  "language_info": {
   "codemirror_mode": {
    "name": "ipython",
    "version": 3
   },
   "file_extension": ".py",
   "mimetype": "text/x-python",
   "name": "python",
   "nbconvert_exporter": "python",
   "pygments_lexer": "ipython3",
   "version": "3.10.4"
  }
 },
 "nbformat": 4,
 "nbformat_minor": 5
}
